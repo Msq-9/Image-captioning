{
 "cells": [
  {
   "cell_type": "code",
   "execution_count": 1,
   "metadata": {},
   "outputs": [],
   "source": [
    "import os\n",
    "import json\n",
    "import collections\n",
    "import itertools"
   ]
  },
  {
   "cell_type": "code",
   "execution_count": 2,
   "metadata": {},
   "outputs": [],
   "source": [
    "def getProjectDir():\n",
    "    projectDir = \"\"\n",
    "    f = os.getcwd().split('/')\n",
    "    for d in f:\n",
    "        if d == 'image-captioning':\n",
    "            projectDir += d + \"/\"\n",
    "            break;\n",
    "        projectDir += d + \"/\"\n",
    "    return projectDir"
   ]
  },
  {
   "cell_type": "code",
   "execution_count": 3,
   "metadata": {},
   "outputs": [
    {
     "data": {
      "text/plain": [
       "'/home/manojmenpadi/Documents/projects/image-captioning/'"
      ]
     },
     "execution_count": 3,
     "metadata": {},
     "output_type": "execute_result"
    }
   ],
   "source": [
    "projectDir = getProjectDir()\n",
    "projectDir"
   ]
  },
  {
   "cell_type": "code",
   "execution_count": 7,
   "metadata": {},
   "outputs": [],
   "source": [
    "img_captions = None\n",
    "with open(projectDir + \"/Data/cleaned_data/\" + \"img_captions_dictionary.txt\", 'r') as f:\n",
    "    img_captions = f.read()\n",
    "\n",
    "json_string = img_captions.replace(\"'\",\"\\\"\")\n",
    "img_captions = json.loads(json_string)"
   ]
  },
  {
   "cell_type": "markdown",
   "metadata": {},
   "source": [
    "## Creating a vocabulary of unique words"
   ]
  },
  {
   "cell_type": "code",
   "execution_count": 8,
   "metadata": {},
   "outputs": [],
   "source": [
    "vocab = set()\n",
    "for keys in img_captions.keys():\n",
    "    for caption in img_captions[keys]:\n",
    "        caption = caption.split()\n",
    "        vocab.update(caption)"
   ]
  },
  {
   "cell_type": "code",
   "execution_count": 9,
   "metadata": {},
   "outputs": [
    {
     "name": "stdout",
     "output_type": "stream",
     "text": [
      "Vocab Size : 8441\n"
     ]
    }
   ],
   "source": [
    "print(\"Vocab Size : %d\"%len(vocab))"
   ]
  },
  {
   "cell_type": "markdown",
   "metadata": {},
   "source": [
    "### Reducing Vocab size according to a certain threshold frequency"
   ]
  },
  {
   "cell_type": "code",
   "execution_count": 10,
   "metadata": {},
   "outputs": [],
   "source": [
    "# Total No of words across all the sentences\n",
    "total_words = []\n",
    "\n",
    "for key in img_captions.keys():\n",
    "    [total_words.append(i) for caption in img_captions[key] for i in caption.split()]"
   ]
  },
  {
   "cell_type": "code",
   "execution_count": 11,
   "metadata": {},
   "outputs": [
    {
     "name": "stdout",
     "output_type": "stream",
     "text": [
      "Total Words : 437466\n"
     ]
    }
   ],
   "source": [
    "print(\"Total Words : %d\"%len(total_words))"
   ]
  },
  {
   "cell_type": "code",
   "execution_count": 12,
   "metadata": {},
   "outputs": [],
   "source": [
    "counter = collections.Counter(total_words)\n",
    "freq_cnt = dict(counter)"
   ]
  },
  {
   "cell_type": "code",
   "execution_count": 13,
   "metadata": {},
   "outputs": [
    {
     "name": "stdout",
     "output_type": "stream",
     "text": [
      "{'a': 62995, 'child': 1545, 'in': 18987, 'pink': 739, 'dress': 348, 'is': 9345, 'climbing': 507, 'up': 1302, 'set': 109, 'of': 6723}\n"
     ]
    }
   ],
   "source": [
    "first_10 = 10\n",
    "print(dict(itertools.islice(freq_cnt.items(), first_10)))"
   ]
  },
  {
   "cell_type": "code",
   "execution_count": 14,
   "metadata": {},
   "outputs": [],
   "source": [
    "# Sorting freq_cnt according to frequencies\n",
    "freq_cnt = sorted(freq_cnt.items(),reverse=True,key=lambda x:x[1])"
   ]
  },
  {
   "cell_type": "code",
   "execution_count": 15,
   "metadata": {},
   "outputs": [],
   "source": [
    "# Filtering words with frequency less than threshold\n",
    "threshold = 0\n",
    "freq_cnt  = [x for x in freq_cnt if x[1]>threshold]\n",
    "\n",
    "total_words = [x[0] for x in freq_cnt]"
   ]
  },
  {
   "cell_type": "code",
   "execution_count": 16,
   "metadata": {},
   "outputs": [
    {
     "name": "stdout",
     "output_type": "stream",
     "text": [
      "8441\n"
     ]
    }
   ],
   "source": [
    "print(len(total_words))"
   ]
  },
  {
   "cell_type": "code",
   "execution_count": 17,
   "metadata": {},
   "outputs": [],
   "source": [
    "with open(projectDir + \"/Data/cleaned_data/\" + \"vocab_list.txt\", \"w\") as f:\n",
    "    f.write(str(total_words))"
   ]
  },
  {
   "cell_type": "code",
   "execution_count": null,
   "metadata": {},
   "outputs": [],
   "source": []
  }
 ],
 "metadata": {
  "kernelspec": {
   "display_name": "Python 3",
   "language": "python",
   "name": "python3"
  },
  "language_info": {
   "codemirror_mode": {
    "name": "ipython",
    "version": 3
   },
   "file_extension": ".py",
   "mimetype": "text/x-python",
   "name": "python",
   "nbconvert_exporter": "python",
   "pygments_lexer": "ipython3",
   "version": "3.8.2"
  }
 },
 "nbformat": 4,
 "nbformat_minor": 4
}
