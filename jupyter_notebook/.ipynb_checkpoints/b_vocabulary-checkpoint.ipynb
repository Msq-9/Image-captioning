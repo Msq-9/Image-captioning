{
 "cells": [
  {
   "cell_type": "code",
   "execution_count": 48,
   "metadata": {},
   "outputs": [],
   "source": [
    "import os\n",
    "import json\n",
    "import collections\n",
    "import itertools"
   ]
  },
  {
   "cell_type": "code",
   "execution_count": 49,
   "metadata": {},
   "outputs": [],
   "source": [
    "def getProjectDir():\n",
    "    projectDir = \"\"\n",
    "    f = os.getcwd().split('/')\n",
    "    for d in f:\n",
    "        if d == 'image-captioning':\n",
    "            projectDir += d\n",
    "            break;\n",
    "        projectDir += d + \"/\"\n",
    "    return projectDir"
   ]
  },
  {
   "cell_type": "code",
   "execution_count": 50,
   "metadata": {},
   "outputs": [
    {
     "data": {
      "text/plain": [
       "'/home/manojmenpadi/Documents/projects/image-captioning'"
      ]
     },
     "execution_count": 50,
     "metadata": {},
     "output_type": "execute_result"
    }
   ],
   "source": [
    "projectDir = getProjectDir()\n",
    "projectDir"
   ]
  },
  {
   "cell_type": "code",
   "execution_count": 51,
   "metadata": {},
   "outputs": [],
   "source": [
    "img_captions = None\n",
    "with open(projectDir + \"/Data/cleaned_data/\" + \"img_captions_dictionary.txt\", 'r') as f:\n",
    "    img_captions = f.read()\n",
    "\n",
    "select_dataset = None\n",
    "with open(\"which_dataset.txt\", 'r') as f:\n",
    "    select_dataset = f.read()\n",
    "\n",
    "json_string = img_captions.replace(\"'\",\"\\\"\")\n",
    "img_captions = json.loads(json_string)\n",
    "# print(img_captions[:10000])"
   ]
  },
  {
   "cell_type": "markdown",
   "metadata": {},
   "source": [
    "## Creating a vocabulary of unique words"
   ]
  },
  {
   "cell_type": "code",
   "execution_count": 52,
   "metadata": {},
   "outputs": [],
   "source": [
    "vocab = set()\n",
    "for keys in img_captions.keys():\n",
    "    for caption in img_captions[keys]:\n",
    "        caption = caption.split()\n",
    "        vocab.update(caption)"
   ]
  },
  {
   "cell_type": "code",
   "execution_count": 53,
   "metadata": {},
   "outputs": [
    {
     "name": "stdout",
     "output_type": "stream",
     "text": [
      "Vocab Size : 18079\n"
     ]
    }
   ],
   "source": [
    "print(\"Vocab Size : %d\"%len(vocab))"
   ]
  },
  {
   "cell_type": "markdown",
   "metadata": {},
   "source": [
    "### Reducing Vocab size according to a certain threshold frequency"
   ]
  },
  {
   "cell_type": "code",
   "execution_count": 54,
   "metadata": {},
   "outputs": [],
   "source": [
    "# Total No of words across all the sentences\n",
    "total_words = []\n",
    "\n",
    "for key in img_captions.keys():\n",
    "    [total_words.append(i) for caption in img_captions[key] for i in caption.split()]"
   ]
  },
  {
   "cell_type": "code",
   "execution_count": 55,
   "metadata": {},
   "outputs": [
    {
     "name": "stdout",
     "output_type": "stream",
     "text": [
      "Total Words : 1955240\n"
     ]
    }
   ],
   "source": [
    "print(\"Total Words : %d\"%len(total_words))"
   ]
  },
  {
   "cell_type": "code",
   "execution_count": 56,
   "metadata": {},
   "outputs": [],
   "source": [
    "counter = collections.Counter(total_words)\n",
    "freq_cnt = dict(counter)"
   ]
  },
  {
   "cell_type": "code",
   "execution_count": 57,
   "metadata": {},
   "outputs": [
    {
     "name": "stdout",
     "output_type": "stream",
     "text": [
      "{'two': 21680, 'young': 13219, 'guys': 658, 'with': 36208, 'shaggy': 54, 'hair': 2777, 'look': 1330, 'at': 16262, 'their': 4037, 'hands': 1556}\n"
     ]
    }
   ],
   "source": [
    "first_10 = 10\n",
    "print(dict(itertools.islice(freq_cnt.items(), first_10)))"
   ]
  },
  {
   "cell_type": "code",
   "execution_count": 58,
   "metadata": {},
   "outputs": [],
   "source": [
    "# Sorting freq_cnt according to frequencies\n",
    "freq_cnt = sorted(freq_cnt.items(),reverse=True,key=lambda x:x[1])"
   ]
  },
  {
   "cell_type": "code",
   "execution_count": 59,
   "metadata": {},
   "outputs": [],
   "source": [
    "# Filtering words with frequency less than threshold\n",
    "threshold = 0\n",
    "freq_cnt  = [x for x in freq_cnt if x[1]>threshold]\n",
    "\n",
    "total_words = [x[0] for x in freq_cnt]"
   ]
  },
  {
   "cell_type": "code",
   "execution_count": 60,
   "metadata": {},
   "outputs": [
    {
     "name": "stdout",
     "output_type": "stream",
     "text": [
      "18079\n"
     ]
    }
   ],
   "source": [
    "print(len(total_words))"
   ]
  },
  {
   "cell_type": "code",
   "execution_count": 61,
   "metadata": {},
   "outputs": [],
   "source": [
    "with open(projectDir + \"/Data/cleaned_data/\" + \"vocab_list.txt\", \"w\") as f:\n",
    "    f.write(str(total_words))"
   ]
  },
  {
   "cell_type": "code",
   "execution_count": null,
   "metadata": {},
   "outputs": [],
   "source": []
  }
 ],
 "metadata": {
  "kernelspec": {
   "display_name": "Python 3",
   "language": "python",
   "name": "python3"
  },
  "language_info": {
   "codemirror_mode": {
    "name": "ipython",
    "version": 3
   },
   "file_extension": ".py",
   "mimetype": "text/x-python",
   "name": "python",
   "nbconvert_exporter": "python",
   "pygments_lexer": "ipython3",
   "version": "3.8.2"
  }
 },
 "nbformat": 4,
 "nbformat_minor": 4
}
