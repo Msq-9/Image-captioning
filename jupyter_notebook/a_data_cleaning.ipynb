{
 "cells": [
  {
   "cell_type": "markdown",
   "metadata": {},
   "source": [
    "# Read Data file"
   ]
  },
  {
   "cell_type": "code",
   "execution_count": 17,
   "metadata": {},
   "outputs": [],
   "source": [
    "import os\n",
    "import pandas as pd"
   ]
  },
  {
   "cell_type": "code",
   "execution_count": 10,
   "metadata": {},
   "outputs": [],
   "source": [
    "def getProjectDir():\n",
    "    projectDir = \"\"\n",
    "    f = os.getcwd().split('/')\n",
    "    for d in f:\n",
    "        if d == 'image-captioning':\n",
    "            projectDir += d\n",
    "            break;\n",
    "        projectDir += d + \"/\"\n",
    "    return projectDir"
   ]
  },
  {
   "cell_type": "code",
   "execution_count": 11,
   "metadata": {
    "scrolled": true
   },
   "outputs": [
    {
     "name": "stdout",
     "output_type": "stream",
     "text": [
      "/home/manojmenpadi/Documents/projects/image-captioning\n"
     ]
    }
   ],
   "source": [
    "projectDir = getProjectDir()\n",
    "print(projectDir)"
   ]
  },
  {
   "cell_type": "code",
   "execution_count": 12,
   "metadata": {},
   "outputs": [
    {
     "name": "stdout",
     "output_type": "stream",
     "text": [
      "Enter name of dataset flickr8k or flickr30k : \n",
      "flickr30k\n"
     ]
    }
   ],
   "source": [
    "print(\"Enter name of dataset flickr8k or flickr30k : \")\n",
    "select_dataset = input()\n",
    "if select_dataset == '':\n",
    "    select_dataset = \"flickr8k\""
   ]
  },
  {
   "cell_type": "code",
   "execution_count": 13,
   "metadata": {},
   "outputs": [
    {
     "name": "stdout",
     "output_type": "stream",
     "text": [
      "Dataset being used : flickr30k\n"
     ]
    }
   ],
   "source": [
    "print(\"Dataset being used : \" + select_dataset)"
   ]
  },
  {
   "cell_type": "code",
   "execution_count": 14,
   "metadata": {},
   "outputs": [],
   "source": [
    "def readTxt(path):\n",
    "    with open(path) as f:\n",
    "        captions = f.read()\n",
    "    return captions"
   ]
  },
  {
   "cell_type": "code",
   "execution_count": 16,
   "metadata": {},
   "outputs": [],
   "source": [
    "if select_dataset == \"flickr8k\" :\n",
    "    captions = readTxt(projectDir + \"/Data/flickr8k/Flickr_TextData/Flickr8k.token.txt\")\n",
    "    captions = captions.split('\\n')[:-1]\n",
    "else :\n",
    "    fileName = projectDir + \"/Data/flickr30k/descriptions.csv\"\n",
    "    captions = pd.read_csv(fileName, sep='|', header=None, engine='python')"
   ]
  },
  {
   "cell_type": "code",
   "execution_count": 10,
   "metadata": {},
   "outputs": [
    {
     "data": {
      "text/plain": [
       "[' Two young guys with shaggy hair look at their hands while hanging out in the yard .',\n",
       " ' Two young , White males are outside near many bushes .',\n",
       " ' Two men in green shirts are standing in a yard .',\n",
       " ' A man in a blue shirt standing in a garden .',\n",
       " ' Two friends enjoy time spent together .']"
      ]
     },
     "execution_count": 10,
     "metadata": {},
     "output_type": "execute_result"
    }
   ],
   "source": [
    "img_captions = {}\n",
    "\n",
    "if select_dataset == \"flickr8k\":\n",
    "    for item in captions:\n",
    "        first, second = item.split('\\t')\n",
    "        img_id = first.split('.')[0]\n",
    "\n",
    "        if img_captions.get(img_id) is None:\n",
    "            img_captions[img_id] = []\n",
    "\n",
    "        img_captions[img_id].append(second)\n",
    "    img_id = \"1000268201_693b08cb0e\"\n",
    "else :\n",
    "    for index, row in captions.iterrows():\n",
    "        if index == 0:\n",
    "            continue\n",
    "        img_id = row[0].split('.')[0]\n",
    "\n",
    "        if img_captions.get(img_id) is None:\n",
    "            img_captions[img_id] = []\n",
    "        if row[2] != None:\n",
    "            img_captions[img_id].append(row[2])\n",
    "        else :\n",
    "            img_captions[img_id].append(\" \")\n",
    "    img_id = \"1000092795\"\n",
    "\n",
    "img_captions[img_id]"
   ]
  },
  {
   "cell_type": "markdown",
   "metadata": {},
   "source": [
    "# Cleaning the Data"
   ]
  },
  {
   "cell_type": "code",
   "execution_count": 11,
   "metadata": {},
   "outputs": [],
   "source": [
    "import re\n",
    "import os"
   ]
  },
  {
   "cell_type": "code",
   "execution_count": 12,
   "metadata": {},
   "outputs": [],
   "source": [
    "def clean_txt(txt):\n",
    "    sentence = txt.lower()\n",
    "    sentence = re.sub(\"[^a-z]+\", \" \", sentence)\n",
    "    sentence = sentence.split()\n",
    "    \n",
    "    sentence  = [s for s in sentence]\n",
    "    sentence = \" \".join(sentence)\n",
    "    return sentence"
   ]
  },
  {
   "cell_type": "markdown",
   "metadata": {},
   "source": [
    "### Clean all captions"
   ]
  },
  {
   "cell_type": "code",
   "execution_count": 13,
   "metadata": {},
   "outputs": [
    {
     "data": {
      "text/plain": [
       "[' Two young guys with shaggy hair look at their hands while hanging out in the yard .',\n",
       " ' Two young , White males are outside near many bushes .',\n",
       " ' Two men in green shirts are standing in a yard .',\n",
       " ' A man in a blue shirt standing in a garden .',\n",
       " ' Two friends enjoy time spent together .']"
      ]
     },
     "execution_count": 13,
     "metadata": {},
     "output_type": "execute_result"
    }
   ],
   "source": [
    "# before\n",
    "img_captions[img_id]"
   ]
  },
  {
   "cell_type": "code",
   "execution_count": 14,
   "metadata": {},
   "outputs": [],
   "source": [
    "# Cleaning\n",
    "for key,captions in img_captions.items():\n",
    "    for i in range(len(captions)):\n",
    "        if captions[i] != None:\n",
    "            captions[i] = clean_txt(captions[i])"
   ]
  },
  {
   "cell_type": "code",
   "execution_count": 15,
   "metadata": {},
   "outputs": [
    {
     "data": {
      "text/plain": [
       "['two young guys with shaggy hair look at their hands while hanging out in the yard',\n",
       " 'two young white males are outside near many bushes',\n",
       " 'two men in green shirts are standing in a yard',\n",
       " 'a man in a blue shirt standing in a garden',\n",
       " 'two friends enjoy time spent together']"
      ]
     },
     "execution_count": 15,
     "metadata": {},
     "output_type": "execute_result"
    }
   ],
   "source": [
    "# After\n",
    "img_captions[img_id]"
   ]
  },
  {
   "cell_type": "markdown",
   "metadata": {},
   "source": [
    "### Writing data into text file"
   ]
  },
  {
   "cell_type": "code",
   "execution_count": 16,
   "metadata": {},
   "outputs": [],
   "source": [
    "with open(projectDir + \"/Data/cleaned_data/\" + \"img_captions_dictionary.txt\", \"w\") as f:\n",
    "    f.write(str(img_captions))\n",
    "\n",
    "with open(\"which_dataset.txt\", \"w\") as f:\n",
    "    f.write(str(select_dataset))"
   ]
  },
  {
   "cell_type": "code",
   "execution_count": null,
   "metadata": {},
   "outputs": [],
   "source": []
  }
 ],
 "metadata": {
  "kernelspec": {
   "display_name": "Python 3",
   "language": "python",
   "name": "python3"
  },
  "language_info": {
   "codemirror_mode": {
    "name": "ipython",
    "version": 3
   },
   "file_extension": ".py",
   "mimetype": "text/x-python",
   "name": "python",
   "nbconvert_exporter": "python",
   "pygments_lexer": "ipython3",
   "version": "3.8.2"
  }
 },
 "nbformat": 4,
 "nbformat_minor": 4
}
